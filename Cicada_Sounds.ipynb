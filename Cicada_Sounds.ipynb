{
 "cells": [
  {
   "cell_type": "markdown",
   "metadata": {},
   "source": [
    "## Cicada Recordings\n",
    "[Princeton Sound Lab](https://soundlab.cs.princeton.edu/listen/cicadas/)"
   ]
  },
  {
   "cell_type": "code",
   "execution_count": 1,
   "metadata": {},
   "outputs": [],
   "source": [
    "import numpy as np\n",
    "import matplotlib.pyplot as plt\n",
    "from scipy.io import wavfile\n",
    "from scipy import signal\n",
    "%matplotlib inline"
   ]
  },
  {
   "cell_type": "code",
   "execution_count": 2,
   "metadata": {},
   "outputs": [],
   "source": [
    "def scale_columns(arr):\n",
    "    arr_max = abs(arr).max(axis=0)\n",
    "    arr_scaled = arr / arr_max\n",
    "    return arr_scaled"
   ]
  },
  {
   "cell_type": "code",
   "execution_count": 3,
   "metadata": {},
   "outputs": [],
   "source": [
    "samplerate, data = wavfile.read('/home/cgreco/Downloads/cicadapalooza.wav')\n",
    "data_normalized = scale_columns(data)\n"
   ]
  },
  {
   "cell_type": "code",
   "execution_count": null,
   "metadata": {},
   "outputs": [],
   "source": [
    "t = np.arange(0,len(data_normalized)) / samplerate\n",
    "plt.figure()\n",
    "plt.plot(t,data_normalized[:,0])\n",
    "plt.xlabel('time (sec)')\n",
    "plt.ylabel('y(t)')\n",
    "plt.title('Cicada Sounds')\n"
   ]
  },
  {
   "cell_type": "code",
   "execution_count": 5,
   "metadata": {},
   "outputs": [],
   "source": [
    "Fs = samplerate\n",
    "NFFT = 4096\n",
    "f, Pxx = signal.welch(data_normalized[:,0],fs=Fs,window='hann',nperseg=NFFT,\n",
    "    noverlap=NFFT/2,nfft=NFFT,detrend='constant',return_onesided=True,scaling='density')"
   ]
  },
  {
   "cell_type": "code",
   "execution_count": null,
   "metadata": {},
   "outputs": [],
   "source": [
    "plt.figure()\n",
    "plt.plot(f, 10*np.log10(Pxx))\n",
    "plt.grid()\n",
    "plt.xlabel('Frequency (Hz)')\n",
    "plt.ylabel('Sound_Magnitude**2 / Hz (dB)')\n",
    "plt.title('Normalized Circada Sounds Power Spectral Density')\n"
   ]
  }
 ],
 "metadata": {
  "kernelspec": {
   "display_name": "Python 3",
   "language": "python",
   "name": "python3"
  },
  "language_info": {
   "codemirror_mode": {
    "name": "ipython",
    "version": 3
   },
   "file_extension": ".py",
   "mimetype": "text/x-python",
   "name": "python",
   "nbconvert_exporter": "python",
   "pygments_lexer": "ipython3",
   "version": "3.12.3"
  }
 },
 "nbformat": 4,
 "nbformat_minor": 2
}
