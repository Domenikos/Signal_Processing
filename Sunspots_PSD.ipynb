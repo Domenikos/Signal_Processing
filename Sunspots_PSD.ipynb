{
 "cells": [
  {
   "cell_type": "markdown",
   "id": "e550ecf5",
   "metadata": {},
   "source": [
    "# Sunspot Power Spectral Density\n",
    "Download Sunspot Data \n",
    "from the Solar Influences [Data Analysis Center (SILSO)](https://www.sidc.be/SILSO/home)\n",
    "and Estimate Power Spectral Density"
   ]
  },
  {
   "cell_type": "code",
   "execution_count": 1,
   "id": "e8697141",
   "metadata": {},
   "outputs": [],
   "source": [
    "import pandas as pd\n",
    "import numpy as np\n",
    "import matplotlib.pyplot as plt\n",
    "from scipy import signal\n",
    "%matplotlib inline"
   ]
  },
  {
   "cell_type": "markdown",
   "id": "75475f04",
   "metadata": {},
   "source": [
    "Download sunspot data. <br>\n",
    "[Solar Influences Data Analysis Center](https://idc.be/SILSO/home)"
   ]
  },
  {
   "cell_type": "code",
   "execution_count": 2,
   "id": "0305440e",
   "metadata": {},
   "outputs": [],
   "source": [
    "# Monthly mean total sunspot number\n",
    "filename = \"/home/cgreco/Downloads/SN_m_tot_V2.0.txt\"\n",
    "filename_url = \"https://www.sidc.be/SILSO/DATA/SN_m_tot_V2.0.txt\""
   ]
  },
  {
   "cell_type": "code",
   "execution_count": null,
   "id": "74e728c2",
   "metadata": {},
   "outputs": [],
   "source": [
    "df = pd.read_csv(filename,sep=r'\\s+',index_col=False,header=None,\n",
    "    names=[\"Year\",\"Month\",\"Date\",\"Sunspots\",\"Sunspots_SD\",\"Indicator\",\"Provisional\"])\n",
    "#print(df)"
   ]
  },
  {
   "cell_type": "markdown",
   "id": "13cca2e1",
   "metadata": {},
   "source": [
    "Display Sunspot data."
   ]
  },
  {
   "cell_type": "code",
   "execution_count": null,
   "id": "40b282c2",
   "metadata": {},
   "outputs": [],
   "source": [
    "# Display Graph of Sunspots\n",
    "plt.figure()\n",
    "plt.plot(df[\"Date\"],df[\"Sunspots\"])\n",
    "plt.grid()\n",
    "plt.xlabel(\"Date (Year)\")\n",
    "plt.ylabel(\"Sunspot Number S_n\")\n",
    "plt.title(\"Numbers of Sunspots (Monthly Averages)\")\n",
    "#plt.show()"
   ]
  },
  {
   "cell_type": "markdown",
   "id": "0ab0a33f",
   "metadata": {},
   "source": [
    "Power Spectral Density Estimation"
   ]
  },
  {
   "cell_type": "code",
   "execution_count": 5,
   "id": "8781c636",
   "metadata": {},
   "outputs": [],
   "source": [
    "Fs = 12     # Once per month (12 times per year)\n",
    "NFFT = 2048\n",
    "f, Pxx = signal.welch(df[\"Sunspots\"].to_numpy(),fs=Fs,window='hann',nperseg=12*80,\n",
    "    noverlap=12*40,nfft=NFFT,detrend='linear',return_onesided=True,scaling='density')"
   ]
  },
  {
   "cell_type": "code",
   "execution_count": null,
   "id": "e7da2d7e",
   "metadata": {},
   "outputs": [],
   "source": [
    "plt.figure()\n",
    "plt.semilogy(f, Pxx)\n",
    "plt.xlim(0,1)\n",
    "plt.grid()\n",
    "plt.xlabel('Frequency (Cycles/Year)')\n",
    "plt.ylabel('Sunspots**2 - Year')\n",
    "plt.title('Sunspot Power Spectral Density')\n",
    "end_range = int(0.25*NFFT/12)\n",
    "peaks, _ = signal.find_peaks(Pxx[0:end_range])\n",
    "plt.text(0.175,5e4,f'Peaks: {np.around(peaks*Fs/NFFT, decimals=4)} Cycles/Year')\n",
    "plt.text(0.175,2e4,f'Periods: {np.around(np.reciprocal(peaks*Fs/NFFT), decimals=2)} Years ')\n",
    "#CyclePeriod = np.around(np.reciprocal(peaks*Fs/NFFT), decimals=2)\n",
    "#print(f'Sunspot cycle periods: {CyclePeriod} years')"
   ]
  }
 ],
 "metadata": {
  "jupytext": {
   "cell_metadata_filter": "-all",
   "main_language": "python",
   "notebook_metadata_filter": "-all"
  },
  "kernelspec": {
   "display_name": "Python 3",
   "language": "python",
   "name": "python3"
  },
  "language_info": {
   "codemirror_mode": {
    "name": "ipython",
    "version": 3
   },
   "file_extension": ".py",
   "mimetype": "text/x-python",
   "name": "python",
   "nbconvert_exporter": "python",
   "pygments_lexer": "ipython3",
   "version": "3.12.3"
  }
 },
 "nbformat": 4,
 "nbformat_minor": 5
}
