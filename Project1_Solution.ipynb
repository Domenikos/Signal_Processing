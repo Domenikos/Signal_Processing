{
 "cells": [
  {
   "cell_type": "markdown",
   "id": "b7642674",
   "metadata": {},
   "source": [
    "# Project 1 - Discrete-Time Periodic Signals\n"
   ]
  },
  {
   "cell_type": "markdown",
   "id": "e028b8a6",
   "metadata": {},
   "source": [
    "### Periodic Trigonometric Discrete-Time Signals \n",
    "in index/time and frequency domains\n",
    "$$ x(n) = cos(2 \\pi n k / N)$$  \n",
    "where k/N is a rational fraction"
   ]
  },
  {
   "cell_type": "code",
   "execution_count": 1,
   "id": "ff5bbe5d",
   "metadata": {},
   "outputs": [],
   "source": [
    "import numpy as np\n",
    "from numpy.fft import fft, fftshift, fftfreq\n",
    "import matplotlib.pyplot as plt\n",
    "%matplotlib inline\n"
   ]
  },
  {
   "cell_type": "markdown",
   "id": "66ad9b86",
   "metadata": {},
   "source": [
    "Define functions for graphing"
   ]
  },
  {
   "cell_type": "code",
   "execution_count": 3,
   "id": "3a56b904",
   "metadata": {},
   "outputs": [],
   "source": [
    "def graphit(x,yaxis_str,title_it):\n",
    "    '''Display a discrete-time signal'''\n",
    "    n = np.arange(0,len(x))\n",
    "    plt.figure()\n",
    "    plt.stem(n,x)\n",
    "    plt.xlim(-1,2*N)\n",
    "    plt.grid()\n",
    "    plt.xlabel('$n$')\n",
    "    plt.ylabel(yaxis_str)\n",
    "    plt.xticks(np.arange(0,2*N,2))\n",
    "    plt.title(title_it)\n",
    "\n",
    "def graphfreqmag(y,yaxis_str,title_str):\n",
    "    '''Display the magnitude of the frequency content of a discrete-time signal'''\n",
    "    Y = fftshift(fft(y))/len(y)\n",
    "    F = fftshift(fftfreq(len(Y)))\n",
    "    plt.figure()\n",
    "    plt.stem(F,abs(Y))\n",
    "    plt.grid()\n",
    "    plt.xlabel('$F = k/N$')\n",
    "    plt.ylabel(yaxis_str)\n",
    "    plt.title(title_str)\n"
   ]
  },
  {
   "cell_type": "markdown",
   "id": "7002204d",
   "metadata": {},
   "source": [
    "### Single frequency periodic sequence\n",
    "\n",
    "$$ x(n) = cos(2 \\pi n k / N)$$  \n",
    "where k/N is a rational fraction"
   ]
  },
  {
   "cell_type": "code",
   "execution_count": null,
   "id": "a1baa7b7",
   "metadata": {},
   "outputs": [],
   "source": [
    "k1, N = 3, 10\n",
    "Fn = k1/N            # |Fn| <= 1/2 required\n",
    "n = np.arange(0,2*N)\n",
    "w = 2*np.pi*Fn\n",
    "x1 = np.cos(w*n)\n",
    "title_str = rf\"$x_1(n) = cos(2 \\pi \\,n\\,k/N), k_1 = {k1}, N = {N}$\"\n",
    "graphit(x1,'$x_1(n)$',title_str)\n"
   ]
  },
  {
   "cell_type": "markdown",
   "id": "fbf53e2c",
   "metadata": {},
   "source": [
    "### Frequency Distribution for single frequency periodic sequence"
   ]
  },
  {
   "cell_type": "code",
   "execution_count": null,
   "id": "73c621e0",
   "metadata": {},
   "outputs": [],
   "source": [
    "\n",
    "yaxis_str = '$|X_1(F)|$'\n",
    "title_str = 'Frequency Content for Single Periodic Sequence'\n",
    "graphfreqmag(x1,yaxis_str,title_str)\n"
   ]
  },
  {
   "cell_type": "markdown",
   "id": "2462d24b",
   "metadata": {},
   "source": [
    "### Create a second periodic sequence"
   ]
  },
  {
   "cell_type": "code",
   "execution_count": null,
   "id": "436d8d02",
   "metadata": {},
   "outputs": [],
   "source": [
    "\n",
    "k2 = 2\n",
    "Fn = k2/N            # |Fn| <= 1/2 required\n",
    "n = np.arange(0,2*N)\n",
    "w = 2*np.pi*Fn\n",
    "x2 = 2*np.cos(w*n)\n",
    "title_str = rf\"$x_2(n) = 2 cos(2\\pi\\,n\\,k/N), k2 = {k2}, N = {N}$\"\n",
    "graphit(x2,'$x_2(n)$',title_str)\n"
   ]
  },
  {
   "cell_type": "markdown",
   "id": "93a88693",
   "metadata": {},
   "source": [
    "### Frequency Distribution for a second single frequency periodic sequence"
   ]
  },
  {
   "cell_type": "code",
   "execution_count": null,
   "id": "0c638cb3",
   "metadata": {},
   "outputs": [],
   "source": [
    "# Frequency Distribution\n",
    "yaxis_str = '$|X_2(F)|$'\n",
    "title_str = 'Frequency Content for Single Periodic Sequence'\n",
    "graphfreqmag(x2,yaxis_str,title_str)\n"
   ]
  },
  {
   "cell_type": "markdown",
   "id": "f0ff65ef",
   "metadata": {},
   "source": [
    "### Sum of Two Periodic Sequences"
   ]
  },
  {
   "cell_type": "code",
   "execution_count": null,
   "id": "07fde9bb",
   "metadata": {},
   "outputs": [],
   "source": [
    "\n",
    "y = x1 + x2\n",
    "title_str = '$x_1(n) + x_2(n)$'\n",
    "graphit(x1,'$y(n)$',title_str)\n"
   ]
  },
  {
   "cell_type": "markdown",
   "id": "37922249",
   "metadata": {},
   "source": [
    "### Frequency Distribution for the pair of periodic sequences"
   ]
  },
  {
   "cell_type": "code",
   "execution_count": null,
   "id": "ba580f34",
   "metadata": {},
   "outputs": [],
   "source": [
    "\n",
    "yaxis_str = '$|Y(F)|$'\n",
    "title_str = 'Frequency Content for Sum of Two Periodic Sequences'\n",
    "graphfreqmag(y,yaxis_str,title_str)\n"
   ]
  }
 ],
 "metadata": {
  "kernelspec": {
   "display_name": "Python 3",
   "language": "python",
   "name": "python3"
  },
  "language_info": {
   "codemirror_mode": {
    "name": "ipython",
    "version": 3
   },
   "file_extension": ".py",
   "mimetype": "text/x-python",
   "name": "python",
   "nbconvert_exporter": "python",
   "pygments_lexer": "ipython3",
   "version": "3.12.3"
  }
 },
 "nbformat": 4,
 "nbformat_minor": 5
}
